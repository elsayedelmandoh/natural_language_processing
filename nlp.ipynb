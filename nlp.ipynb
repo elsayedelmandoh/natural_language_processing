{
 "cells": [
  {
   "attachments": {},
   "cell_type": "markdown",
   "metadata": {},
   "source": [
    "# NLTK"
   ]
  },
  {
   "attachments": {},
   "cell_type": "markdown",
   "metadata": {},
   "source": [
    "**Corpus**\n",
    "+ Large collection of words or phases such as dictionary\n",
    "+ Example: Documents, web sources, database"
   ]
  },
  {
   "attachments": {},
   "cell_type": "markdown",
   "metadata": {},
   "source": [
    "**token**\n",
    "+ Tokenization: process of converting TEXT to TOKENS.\n",
    "+ Tokens: Words, phases extracted from documents or web sources.\n",
    "+ Text Object: sentence or phrase or word or article.\n",
    "\n",
    "+ API ==> NLTK for more tasks such as preprocessing , vectorized representation of text"
   ]
  },
  {
   "attachments": {},
   "cell_type": "markdown",
   "metadata": {},
   "source": [
    "**Feature vector**\n",
    "+ A numeric array that ML models use for training and classification/regression\n",
    "tasks."
   ]
  },
  {
   "cell_type": "code",
   "execution_count": 1,
   "metadata": {},
   "outputs": [],
   "source": [
    "import nltk"
   ]
  },
  {
   "cell_type": "code",
   "execution_count": 2,
   "metadata": {},
   "outputs": [
    {
     "name": "stdout",
     "output_type": "stream",
     "text": [
      "showing info https://raw.githubusercontent.com/nltk/nltk_data/gh-pages/index.xml\n"
     ]
    },
    {
     "data": {
      "text/plain": [
       "True"
      ]
     },
     "execution_count": 2,
     "metadata": {},
     "output_type": "execute_result"
    }
   ],
   "source": [
    "nltk.download()"
   ]
  },
  {
   "attachments": {},
   "cell_type": "markdown",
   "metadata": {},
   "source": [
    "#### **1- pre-processing**\n",
    "    - Raw Text (input)\n",
    "    - Noise Removal: \n",
    "    - Lexicon Normalization\n",
    "    - Object Standardization\n",
    "    - Clean Text (output)"
   ]
  },
  {
   "attachments": {},
   "cell_type": "markdown",
   "metadata": {},
   "source": [
    "**+ Pipline:**\n",
    "- **Raw Text**\n",
    "- **Noise Removal**: Remove words elly mlha4 lazma\n",
    "    * Stopwords (i,am,the,a,he,)\n",
    "    * URLs: https://www.google.com/\n",
    "    * Punctuations: ? , ! ; . \n",
    "    * Mentions: @\n",
    "    * HTML and XML markup: <p> This is a dataset .. </ p>\n",
    "    * Twitter mark-up (names, hash tags): #aws #amazon #tesla\n",
    "    * Capitalization: Acronyms: NASA, ETA etc.\n",
    "    * Phone numbers, dates: +14256565, 12/11/2013\n",
    "    * Emojis\n",
    "    * Emoticons\n",
    "- **Word Normalization** or **Lexicon Normalization**: player,plays,played,playing = play\n",
    "    * Tokenization \n",
    "    * Lemmatization \n",
    "    * Stemming\n",
    "- **Word Standardizaion** or **Object Standardization**: ISA = Inshallah\n",
    "    * Regular\n",
    "    * Expression\n",
    "    * Lookup Tables\n",
    "- **Clean Text**:"
   ]
  },
  {
   "attachments": {},
   "cell_type": "markdown",
   "metadata": {},
   "source": [
    "### **1.1- Noise Removal**\n",
    "+ Remove words elly mlha4 lazma"
   ]
  },
  {
   "cell_type": "markdown",
   "metadata": {},
   "source": [
    "implementaion Noise Removal"
   ]
  },
  {
   "cell_type": "code",
   "execution_count": null,
   "metadata": {},
   "outputs": [],
   "source": [
    "def remove_noise(raw_text):\n",
    "    '''\n",
    "    create list from stopwords\n",
    "    convert text to lowercase and split it as list\n",
    "    loop on each word and remove noises\n",
    "    convert list to text\n",
    "    '''\n",
    "    stopwords = ['is','the','a','...','this','there','are','i']\n",
    "    words = raw_text.lower().split()\n",
    "    # filter stopwords from words\n",
    "    filter = [word for word in words if word not in stopwords]\n",
    "    text = \" \".join(filter)\n",
    "    return text\n",
    "\n",
    "print(remove_noise(\"hey This this hello The hal there\"))"
   ]
  },
  {
   "cell_type": "markdown",
   "metadata": {},
   "source": [
    "Noise Removal used built-in function "
   ]
  },
  {
   "cell_type": "code",
   "execution_count": 33,
   "metadata": {},
   "outputs": [
    {
     "name": "stdout",
     "output_type": "stream",
     "text": [
      "['i', 'me', 'my', 'myself', 'we', 'our', 'ours', 'ourselves', 'you', \"you're\", \"you've\", \"you'll\", \"you'd\", 'your', 'yours', 'yourself', 'yourselves', 'he', 'him', 'his', 'himself', 'she', \"she's\", 'her', 'hers', 'herself', 'it', \"it's\", 'its', 'itself', 'they', 'them', 'their', 'theirs', 'themselves', 'what', 'which', 'who', 'whom', 'this', 'that', \"that'll\", 'these', 'those', 'am', 'is', 'are', 'was', 'were', 'be', 'been', 'being', 'have', 'has', 'had', 'having', 'do', 'does', 'did', 'doing', 'a', 'an', 'the', 'and', 'but', 'if', 'or', 'because', 'as', 'until', 'while', 'of', 'at', 'by', 'for', 'with', 'about', 'against', 'between', 'into', 'through', 'during', 'before', 'after', 'above', 'below', 'to', 'from', 'up', 'down', 'in', 'out', 'on', 'off', 'over', 'under', 'again', 'further', 'then', 'once', 'here', 'there', 'when', 'where', 'why', 'how', 'all', 'any', 'both', 'each', 'few', 'more', 'most', 'other', 'some', 'such', 'no', 'nor', 'not', 'only', 'own', 'same', 'so', 'than', 'too', 'very', 's', 't', 'can', 'will', 'just', 'don', \"don't\", 'should', \"should've\", 'now', 'd', 'll', 'm', 'o', 're', 've', 'y', 'ain', 'aren', \"aren't\", 'couldn', \"couldn't\", 'didn', \"didn't\", 'doesn', \"doesn't\", 'hadn', \"hadn't\", 'hasn', \"hasn't\", 'haven', \"haven't\", 'isn', \"isn't\", 'ma', 'mightn', \"mightn't\", 'mustn', \"mustn't\", 'needn', \"needn't\", 'shan', \"shan't\", 'shouldn', \"shouldn't\", 'wasn', \"wasn't\", 'weren', \"weren't\", 'won', \"won't\", 'wouldn', \"wouldn't\"]\n",
      "hey hello hal\n"
     ]
    }
   ],
   "source": [
    "from nltk.corpus import stopwords       # include noise words\n",
    "from nltk.tokenize import word_tokenize # split text\n",
    "\n",
    "def remove_noise(raw_data):\n",
    "    '''\n",
    "    create set from stopwords function\n",
    "    convert text to lowercase and split it as list with built-in function\n",
    "    loop on each word and remove noises\n",
    "    convert list to text\n",
    "    '''\n",
    "    stop_words = stopwords.words('english')\n",
    "    word_tokens = word_tokenize(raw_data.lower())    # split text to list\n",
    "        # filter stopwords from words\n",
    "\n",
    "    filter = [word for word in word_tokens if word not in stop_words]\n",
    "    text = \" \".join(filter)\n",
    "    return text\n",
    "\n",
    "print(remove_noise(\"hey This this hello The hal there\"))"
   ]
  },
  {
   "attachments": {},
   "cell_type": "markdown",
   "metadata": {},
   "source": [
    "### **1.2- Lexicon Normalization**\n",
    "+ Lemma: play,player,plays,played,playing = play"
   ]
  },
  {
   "attachments": {},
   "cell_type": "markdown",
   "metadata": {},
   "source": [
    "**1.2.1- Tokenization**\n",
    "+ Word tokenization: function is used to split the input text into individual words and return list of strings\n",
    "\n",
    "+ sentence tokenization: function is used to split the input text into individual sentences and return list of strings"
   ]
  },
  {
   "cell_type": "code",
   "execution_count": 1,
   "metadata": {},
   "outputs": [
    {
     "name": "stdout",
     "output_type": "stream",
     "text": [
      "Text:\n",
      "Today, the result is The spirit desires. But the flesh is weak. Which isn't perfect. But inspires much more confidence in the English-to-Russian translation.\n",
      "\n",
      "Word Tokenize:\n",
      "['today', ',', 'the', 'result', 'is', 'the', 'spirit', 'desires', '.', 'but', 'the', 'flesh', 'is', 'weak', '.', 'which', 'is', \"n't\", 'perfect', '.', 'but', 'inspires', 'much', 'more', 'confidence', 'in', 'the', 'english-to-russian', 'translation', '.']\n",
      "Sentance Tokenize:\n",
      "['Today, the result is The spirit desires.', 'But the flesh is weak.', \"Which isn't perfect.\", 'But inspires much more confidence in the English-to-Russian translation.']\n"
     ]
    }
   ],
   "source": [
    "from nltk import word_tokenize , sent_tokenize\n",
    "    \n",
    "text = open(r\"word_send_tokenize.txt\",'r').read()\n",
    "print(f\"Text:\\n{text}\")\n",
    "print(f\"Word Tokenize:\\n{word_tokenize(text.lower())}\")\n",
    "print(f\"Sentance Tokenize:\\n{sent_tokenize(text)}\") # ! or ? or ."
   ]
  },
  {
   "attachments": {},
   "cell_type": "markdown",
   "metadata": {},
   "source": [
    "**1.2.2- Stemming**\n",
    "+ remove all word additions: ing , er , s , es ,ly , ed"
   ]
  },
  {
   "cell_type": "code",
   "execution_count": 28,
   "metadata": {},
   "outputs": [
    {
     "name": "stdout",
     "output_type": "stream",
     "text": [
      "play\n",
      "help\n",
      "commun\n",
      "play plays playing play\n"
     ]
    }
   ],
   "source": [
    "from nltk.stem import PorterStemmer\n",
    "\n",
    "stemmer = PorterStemmer() # lazm create obect from class PorterStemmer\n",
    "# method stem take one word and to_lowercase is default is True\n",
    "print(stemmer.stem(\"playing\"))                   # meaning is understandable\n",
    "print(stemmer.stem(\"HeLPing\", to_lowercase=True))# meaning is understandable\n",
    "print(stemmer.stem(\"play plays playing player\")) # meaning is not understandable, should be on word\n",
    "print(stemmer.stem(\"communication\"))             # meaning is not understandable, fixed it in lemmatization"
   ]
  },
  {
   "attachments": {},
   "cell_type": "markdown",
   "metadata": {},
   "source": [
    "**1.2.3- lemmatization**\n",
    "+ get root form of word \n",
    "+ get Vocabulary (dictionary importance of words) \n",
    "+ get Morphological analysis (word structure and grammer relations)"
   ]
  },
  {
   "cell_type": "code",
   "execution_count": 30,
   "metadata": {},
   "outputs": [
    {
     "name": "stdout",
     "output_type": "stream",
     "text": [
      "play\n",
      "HeLPing\n",
      "communication\n",
      "play plays playing player\n"
     ]
    }
   ],
   "source": [
    "from nltk import WordNetLemmatizer\n",
    "\n",
    "lemmatizer = WordNetLemmatizer()\n",
    "# method lemmatize take on word and \"v\" for verbs\n",
    "print(lemmatizer.lemmatize(\"playing\", 'v'))\n",
    "print(lemmatizer.lemmatize(\"HeLPing\")) # not found to_lowercase\n",
    "print(lemmatizer.lemmatize(\"play plays playing player\")) # should be on word\n",
    "print(lemmatizer.lemmatize(\"communication\", 'v'))"
   ]
  },
  {
   "attachments": {},
   "cell_type": "markdown",
   "metadata": {},
   "source": [
    "### **1.3- Object Standardization**\n",
    "+ ISA = Inshallah\n",
    "+ LUV = Love"
   ]
  },
  {
   "cell_type": "code",
   "execution_count": 44,
   "metadata": {},
   "outputs": [
    {
     "name": "stdout",
     "output_type": "stream",
     "text": [
      "retweet direct message awesome love\n"
     ]
    }
   ],
   "source": [
    "# abbreviation\n",
    "# original\n",
    "lookup_dict = {'rt':'retweet',\n",
    "               'dm':'direct message',\n",
    "               'awsm':'awesome',\n",
    "               'luv':'love'}\n",
    "def lookup_word(text):\n",
    "    '''\n",
    "    convert text to lowercase and make split it\n",
    "    create new list to put original text in it\n",
    "    for on lookup_dict to convert abbreviation to original\n",
    "        check if key or abbreviation in lookup_dict\n",
    "            take his value (original)\n",
    "        and added this value new list\n",
    "        convert list to text \n",
    "    return text\n",
    "    '''\n",
    "    tokens = text.lower().split()\n",
    "    original= []\n",
    "    for abbreviation in tokens:\n",
    "        if abbreviation in lookup_dict:\n",
    "            abbreviation= lookup_dict[abbreviation]\n",
    "        original.append(abbreviation)\n",
    "        text= \" \".join(original)\n",
    "    return text\n",
    "    \n",
    "print(lookup_word(\"rt dm awsm luv\"))"
   ]
  },
  {
   "attachments": {},
   "cell_type": "markdown",
   "metadata": {},
   "source": [
    "### **ALL STEPS PRE-PROECSSING**"
   ]
  },
  {
   "cell_type": "code",
   "execution_count": 4,
   "metadata": {},
   "outputs": [
    {
     "name": "stdout",
     "output_type": "stream",
     "text": [
      "im play soccer friend play soccer realli well play yesterday play tomorrow inshallah ill win time laugh out loud\n"
     ]
    }
   ],
   "source": [
    "import re # regular expressions: to select specific pattern\n",
    "from nltk import word_tokenize , sent_tokenize\n",
    "from nltk.corpus import stopwords\n",
    "from nltk.stem import WordNetLemmatizer, PorterStemmer\n",
    "\n",
    "def preprocess(text):\n",
    "    # Noise Removal\n",
    "    text = re.sub(r'https?:\\/\\/\\S+', '', text) # Remove URLs\n",
    "    text = re.sub(r'\\b@\\w+\\b', '', text) # Remove mentions\n",
    "    text = re.sub(r'[^\\w\\s]', '', text) # Remove punctuation\n",
    "        # convert text to tokens\n",
    "    tokens= word_tokenize(text.lower())\n",
    "        # remove stop words\n",
    "    stop_words = stopwords.words('english')\n",
    "    tokens = [token for token in tokens if token not in stop_words] # Remove stopwords\n",
    "    \n",
    "    # Word Normalization\n",
    "    stemmer = PorterStemmer()\n",
    "    tokens = [stemmer.stem(token) for token in tokens] # Stemming\n",
    "    lemmatizer = WordNetLemmatizer()\n",
    "    tokens = [lemmatizer.lemmatize(token) for token in tokens] # Lemmatization\n",
    "\n",
    "    # Word Standardization\n",
    "    lookup_table = {\n",
    "        \"isa\": \"inshallah\",\n",
    "        \"brb\": \"be right back\",\n",
    "        \"lol\": \"laugh out loud\"\n",
    "    }\n",
    "    tokens = [lookup_table.get(token, token) for token in tokens] # Replace with lookup table\n",
    "\n",
    "    # Convert tokens back to string\n",
    "    text = ' '.join(tokens)\n",
    "\n",
    "    return text\n",
    "\n",
    "\n",
    "input_text = open(r\"pre-processing.txt\",'r').read()\n",
    "print(preprocess(input_text))"
   ]
  },
  {
   "cell_type": "code",
   "execution_count": 2,
   "metadata": {},
   "outputs": [],
   "source": [
    "from nltk import word_tokenize"
   ]
  },
  {
   "cell_type": "code",
   "execution_count": 5,
   "metadata": {},
   "outputs": [
    {
     "data": {
      "text/plain": [
       "['today', ',', 'be right back', 'result', 'laugh out loud', 'inshallah', '.']"
      ]
     },
     "execution_count": 5,
     "metadata": {},
     "output_type": "execute_result"
    }
   ],
   "source": [
    "text = \"Today, brb result lol isa.\"\n",
    "tokens = word_tokenize(text.lower())\n",
    "lookup_table = {\n",
    "\"isa\": \"inshallah\",\n",
    "\"brb\": \"be right back\",\n",
    "\"lol\": \"laugh out loud\",\n",
    "}\n",
    "tokens = [lookup_table.get(token, token) for token in tokens] # Replace with lookup table\n",
    "tokens"
   ]
  },
  {
   "cell_type": "markdown",
   "metadata": {},
   "source": [
    "# WordNet\n",
    "\n",
    "WordNet is a lexical `database of the English` language that relates words to one another in terms of synonyms, hypernyms, hyponyms, and more. In natural language processing (NLP), WordNet is often used to find synonyms and antonyms for words."
   ]
  },
  {
   "cell_type": "code",
   "execution_count": 2,
   "metadata": {},
   "outputs": [],
   "source": [
    "from nltk.corpus import wordnet"
   ]
  },
  {
   "cell_type": "markdown",
   "metadata": {},
   "source": [
    "+ synonym : مرادف / سني نم\n",
    "+ antonym : مضادة / انت نم"
   ]
  },
  {
   "cell_type": "code",
   "execution_count": 3,
   "metadata": {},
   "outputs": [
    {
     "data": {
      "text/plain": [
       "[Synset('go.n.01'),\n",
       " Synset('adam.n.03'),\n",
       " Synset('crack.n.09'),\n",
       " Synset('go.n.04'),\n",
       " Synset('travel.v.01'),\n",
       " Synset('go.v.02'),\n",
       " Synset('go.v.03'),\n",
       " Synset('become.v.01'),\n",
       " Synset('go.v.05'),\n",
       " Synset('run.v.05'),\n",
       " Synset('run.v.03'),\n",
       " Synset('proceed.v.04'),\n",
       " Synset('go.v.09'),\n",
       " Synset('go.v.10'),\n",
       " Synset('sound.v.02'),\n",
       " Synset('function.v.01'),\n",
       " Synset('run_low.v.01'),\n",
       " Synset('move.v.13'),\n",
       " Synset('survive.v.01'),\n",
       " Synset('go.v.16'),\n",
       " Synset('die.v.01'),\n",
       " Synset('belong.v.03'),\n",
       " Synset('go.v.19'),\n",
       " Synset('start.v.09'),\n",
       " Synset('move.v.15'),\n",
       " Synset('go.v.22'),\n",
       " Synset('go.v.23'),\n",
       " Synset('blend.v.02'),\n",
       " Synset('go.v.25'),\n",
       " Synset('fit.v.02'),\n",
       " Synset('rifle.v.02'),\n",
       " Synset('go.v.28'),\n",
       " Synset('plump.v.04'),\n",
       " Synset('fail.v.04'),\n",
       " Synset('go.a.01')]"
      ]
     },
     "execution_count": 3,
     "metadata": {},
     "output_type": "execute_result"
    }
   ],
   "source": [
    "syns = wordnet.synsets(\"go\")\n",
    "syns"
   ]
  },
  {
   "cell_type": "markdown",
   "metadata": {},
   "source": [
    "we see that found more words `synonym` for word `go` "
   ]
  },
  {
   "cell_type": "code",
   "execution_count": 4,
   "metadata": {},
   "outputs": [
    {
     "data": {
      "text/plain": [
       "'go.n.01'"
      ]
     },
     "execution_count": 4,
     "metadata": {},
     "output_type": "execute_result"
    }
   ],
   "source": [
    "syns[0].name()"
   ]
  },
  {
   "cell_type": "code",
   "execution_count": 5,
   "metadata": {},
   "outputs": [
    {
     "data": {
      "text/plain": [
       "'a time for working (after which you will be relieved by someone else)'"
      ]
     },
     "execution_count": 5,
     "metadata": {},
     "output_type": "execute_result"
    }
   ],
   "source": [
    "syns[0].definition()"
   ]
  },
  {
   "cell_type": "code",
   "execution_count": 6,
   "metadata": {},
   "outputs": [
    {
     "data": {
      "text/plain": [
       "[\"it's my go\", 'a spell of work']"
      ]
     },
     "execution_count": 6,
     "metadata": {},
     "output_type": "execute_result"
    }
   ],
   "source": [
    "syns[0].examples()"
   ]
  },
  {
   "cell_type": "markdown",
   "metadata": {},
   "source": [
    "تصريف الفعل"
   ]
  },
  {
   "cell_type": "code",
   "execution_count": 7,
   "metadata": {},
   "outputs": [
    {
     "data": {
      "text/plain": [
       "[Lemma('go.n.01.go'),\n",
       " Lemma('go.n.01.spell'),\n",
       " Lemma('go.n.01.tour'),\n",
       " Lemma('go.n.01.turn')]"
      ]
     },
     "execution_count": 7,
     "metadata": {},
     "output_type": "execute_result"
    }
   ],
   "source": [
    "syns[0].lemmas()"
   ]
  },
  {
   "cell_type": "markdown",
   "metadata": {},
   "source": [
    "get synonyms "
   ]
  },
  {
   "cell_type": "code",
   "execution_count": 11,
   "metadata": {},
   "outputs": [
    {
     "data": {
      "text/plain": [
       "{'felicitous', 'glad', 'happy', 'well-chosen'}"
      ]
     },
     "execution_count": 11,
     "metadata": {},
     "output_type": "execute_result"
    }
   ],
   "source": [
    "def get_synonyms(word):\n",
    "    synonyms = []\n",
    "    for syn in wordnet.synsets(word):\n",
    "        for lemma in syn.lemmas():\n",
    "            synonyms.append(lemma.name())\n",
    "    return set(synonyms)\n",
    "\n",
    "synonyms = get_synonyms('happy')\n",
    "synonyms"
   ]
  },
  {
   "cell_type": "markdown",
   "metadata": {},
   "source": [
    "use set to remove duplicates"
   ]
  },
  {
   "cell_type": "markdown",
   "metadata": {},
   "source": [
    "get antonyms "
   ]
  },
  {
   "cell_type": "code",
   "execution_count": 12,
   "metadata": {},
   "outputs": [
    {
     "data": {
      "text/plain": [
       "{'unhappy'}"
      ]
     },
     "execution_count": 12,
     "metadata": {},
     "output_type": "execute_result"
    }
   ],
   "source": [
    "def get_antonyms(word):\n",
    "    antonyms = []\n",
    "    for syn in wordnet.synsets(word):\n",
    "        for lemma in syn.lemmas():\n",
    "            if lemma.antonyms():\n",
    "                antonyms.append(lemma.antonyms()[0].name())\n",
    "    return set(antonyms)\n",
    "\n",
    "antonyms = get_antonyms('happy')\n",
    "antonyms"
   ]
  },
  {
   "cell_type": "markdown",
   "metadata": {},
   "source": [
    "get synonyms and antonyms"
   ]
  },
  {
   "cell_type": "code",
   "execution_count": 15,
   "metadata": {},
   "outputs": [
    {
     "name": "stdout",
     "output_type": "stream",
     "text": [
      "synonyms:\n",
      "{'adept', 'unspoilt', 'thoroughly', 'in_effect', 'safe', 'commodity', 'well', 'salutary', 'upright', 'skilful', 'sound', 'dear', 'in_force', 'proficient', 'expert', 'good', 'honest', 'near', 'dependable', 'goodness', 'ripe', 'secure', 'honorable', 'effective', 'unspoiled', 'skillful', 'beneficial', 'undecomposed', 'soundly', 'respectable', 'serious', 'just', 'estimable', 'right', 'practiced', 'trade_good', 'full'}\n",
      "antonyms:\n",
      "{'badness', 'bad', 'ill', 'evilness', 'evil'}\n"
     ]
    }
   ],
   "source": [
    "def get_synonyms_antonyms(word):\n",
    "    synonyms = []\n",
    "    antonyms = []\n",
    "\n",
    "    for syn in wordnet.synsets(word): # get synonyms\n",
    "        for lemma in syn.lemmas(): # get lemmas for each synonym\n",
    "            synonyms.append(lemma.name())\n",
    "            if lemma.antonyms():\n",
    "                antonyms.append(lemma.antonyms()[0].name())\n",
    "                \n",
    "    return set(synonyms), set(antonyms)\n",
    "\n",
    "synonyms, antonyms = get_synonyms_antonyms('good')\n",
    "print(\"synonyms:\")\n",
    "print(synonyms)\n",
    "print(\"antonyms:\")\n",
    "print(antonyms)"
   ]
  },
  {
   "cell_type": "markdown",
   "metadata": {},
   "source": [
    "get similarity of words using `wup_similarity`"
   ]
  },
  {
   "cell_type": "code",
   "execution_count": 21,
   "metadata": {},
   "outputs": [
    {
     "data": {
      "text/plain": [
       "0.8571428571428571"
      ]
     },
     "execution_count": 21,
     "metadata": {},
     "output_type": "execute_result"
    }
   ],
   "source": [
    "word1 = wordnet.synset('dog.n.01')\n",
    "word2 = wordnet.synset('cat.n.01')\n",
    "word1.wup_similarity(word2)"
   ]
  },
  {
   "cell_type": "markdown",
   "metadata": {},
   "source": [
    "two object are similar to each other"
   ]
  },
  {
   "cell_type": "code",
   "execution_count": 20,
   "metadata": {},
   "outputs": [
    {
     "data": {
      "text/plain": [
       "0.6956521739130435"
      ]
     },
     "execution_count": 20,
     "metadata": {},
     "output_type": "execute_result"
    }
   ],
   "source": [
    "word1 = wordnet.synset('ship.n.01')\n",
    "word2 = wordnet.synset('car.n.01')\n",
    "word1.wup_similarity(word2)"
   ]
  },
  {
   "cell_type": "markdown",
   "metadata": {},
   "source": [
    "two objects are moving"
   ]
  },
  {
   "cell_type": "code",
   "execution_count": null,
   "metadata": {},
   "outputs": [],
   "source": [
    "word1 = wordnet.synset('ship.n.01')\n",
    "word2 = wordnet.synset('boat.n.01')\n",
    "word1.wup_similarity(word2)"
   ]
  },
  {
   "cell_type": "markdown",
   "metadata": {},
   "source": [
    "two objects are moving and are in sea"
   ]
  },
  {
   "cell_type": "markdown",
   "metadata": {},
   "source": [
    "# Part of speech \"POS\"\n"
   ]
  },
  {
   "cell_type": "markdown",
   "metadata": {},
   "source": [
    "refers to `grammatical category` of a word based on its syntactic functions and `relationships with other words` in a sentence.\n",
    "\n",
    "Identifying the part of speech of each word is a crucial step in `understanding` the `structure and meaning` of a given `text`."
   ]
  },
  {
   "cell_type": "code",
   "execution_count": 24,
   "metadata": {},
   "outputs": [],
   "source": [
    "from nltk import pos_tag, word_tokenize"
   ]
  },
  {
   "cell_type": "code",
   "execution_count": 26,
   "metadata": {},
   "outputs": [
    {
     "name": "stdout",
     "output_type": "stream",
     "text": [
      "The: DT\n",
      "quick: JJ\n",
      "brown: NN\n",
      "fox: NN\n",
      "jumps: VBZ\n",
      "over: IN\n",
      "the: DT\n",
      "lazy: JJ\n",
      "dog: NN\n",
      ".: .\n"
     ]
    }
   ],
   "source": [
    "def get_pos(sent):\n",
    "    tokens = word_tokenize(sent)\n",
    "    pos_tags = pos_tag(tokens)\n",
    "    return pos_tags\n",
    "\n",
    "sentence = \"The quick brown fox jumps over the lazy dog.\"\n",
    "pos_tags = get_pos(sentence)\n",
    "for word, pos in pos_tags:\n",
    "    print(f\"{word}: {pos}\")"
   ]
  },
  {
   "cell_type": "markdown",
   "metadata": {},
   "source": [
    "![\"pos_1\"](imgs/pos_1.png)"
   ]
  },
  {
   "cell_type": "markdown",
   "metadata": {},
   "source": [
    "`Adjective` (`JJ`): A word that describes or modifies a noun. Examples: `happy, red, tall.`\n",
    "\n",
    "\n",
    "`Noun` (`NN`): A word that represents a person, place, thing, or idea. Examples: `dog, city, happiness.`\n",
    "\n",
    "`Adverb` (`RB`): A word that modifies a verb, adjective, or other adverb and often expresses manner, time, place, or degree. Examples: `quickly, very, here.`\n",
    "\n",
    "`Pronoun` (`PRP`): A word that takes the place of a noun. Examples: `he, she, it.`\n",
    "\n",
    "`Conjunction` (`CC`): A word that connects words, phrases, or clauses. Examples: `and, but, or.`\n",
    "\n",
    "`Determiner` (`DT`): A word that introduces a noun and specifies it as something particular. Examples: `the, a, this.`\n",
    "\n",
    "`Preposition` (`IN`): A word that shows the relationship between a noun (or pronoun) and other elements in the sentence. Examples: `in, on, under.`"
   ]
  },
  {
   "cell_type": "markdown",
   "metadata": {},
   "source": [
    "![\"pos_2\"](imgs/pos_2.png)"
   ]
  },
  {
   "cell_type": "markdown",
   "metadata": {},
   "source": [
    "`Interjection` (`UH`): A word or phrase used to express strong emotion or sudden exclamations. Examples: `wow, oh, ouch.`\n",
    "\n",
    "`Verb` (`VB`): A word that expresses an action, occurrence, or state of being. Examples: `run, eat, is.`"
   ]
  },
  {
   "cell_type": "markdown",
   "metadata": {},
   "source": [
    "![\"pos_3\"](imgs/pos_3.png)"
   ]
  },
  {
   "cell_type": "markdown",
   "metadata": {},
   "source": [
    "![\"pos_4\"](imgs/pos_4.png)"
   ]
  },
  {
   "cell_type": "markdown",
   "metadata": {},
   "source": [
    "# `Chunking` is built on part of speech\n",
    "\n",
    "technique that involves identifying and grouping together adjacent words in a sentence that form a meaningful unit, known as a \"chunk.\" Unlike part-of-speech tagging, which labels individual words with their grammatical categories (such as nouns, verbs, etc.), chunking involves the extraction of larger syntactic units or phrases.\n",
    "\n",
    "chunk is typically a phrase or a group of words that serve a specific grammatical role or convey a certain meaning. Common types of chunks include noun phrases (NP), verb phrases (VP), and prepositional phrases (PP)."
   ]
  },
  {
   "cell_type": "code",
   "execution_count": 3,
   "metadata": {},
   "outputs": [],
   "source": [
    "from nltk import pos_tag, word_tokenize, RegexpParser"
   ]
  },
  {
   "cell_type": "code",
   "execution_count": 7,
   "metadata": {},
   "outputs": [
    {
     "name": "stdout",
     "output_type": "stream",
     "text": [
      "Sent\n",
      " The quick brown fox jumps over the lazy dog, BBC\n",
      "pos_tags\n",
      " [('The', 'DT'), ('quick', 'JJ'), ('brown', 'NN'), ('fox', 'NN'), ('jumps', 'VBZ'), ('over', 'IN'), ('the', 'DT'), ('lazy', 'JJ'), ('dog', 'NN'), (',', ','), ('BBC', 'NNP')]\n",
      "chunked_phrases\n",
      " [[('The', 'DT'), ('quick', 'JJ'), ('brown', 'NN')], [('fox', 'NN')], [('the', 'DT'), ('lazy', 'JJ'), ('dog', 'NN')], [('BBC', 'NNP')]]\n"
     ]
    }
   ],
   "source": [
    "def get_chunking(sent):\n",
    "    tokens = word_tokenize(sent)\n",
    "    \n",
    "    # Perform part-of-speech tagging\n",
    "    pos_tags = pos_tag(tokens)\n",
    "    \n",
    "    # define pattern for chunking\n",
    "    \"\"\"\n",
    "    `NP`: This is a `label` that specifies the `type of chunk`\n",
    "    \n",
    "    `{<DT>?<JJ>*<NN>}`: This is a `regular expression pattern`\n",
    "    \n",
    "    `<DT>?`: `Zero` or `one` determiner (optional)\n",
    "\n",
    "    `<JJ>*`: `Zero` or `more` adjectives (optional)\n",
    "\n",
    "    `<NN>`: `Exactly one` noun\n",
    "    \n",
    "    `{<NNP>*}`: one or more Proper noun\n",
    "    \n",
    "    `<NN><NN>`: two noun \n",
    "\n",
    "    \"An `NP chunk` consists of an `optional determiner`, \n",
    "                    followed by `zero or more adjectives`, \n",
    "                    and finally, `exactly one noun`\n",
    "    \"\"\"\n",
    "    chunk_pattern = r\"\"\"\n",
    "    NP: {<DT>?<JJ>*<NN>}\n",
    "        {<NNP>*}\n",
    "        {<NN><NN>}\n",
    "    \"\"\"\n",
    "    \n",
    "    # Create a chunk parser with the defined pattern\n",
    "    \"\"\"\n",
    "    The `RegexpParser` in NLTK (Natural Language Toolkit) is a regular-expression-based `parser \n",
    "    that allows you to define chunking patterns using regular expressions`. \n",
    "    It's useful for simple syntactic `analysis and chunking tasks` \n",
    "    where you want to define explicit patterns `based on part-of-speech tags`.\n",
    "    \"\"\"\n",
    "    chunk_parser = RegexpParser(chunk_pattern)\n",
    "    \n",
    "    # Apply the chunk parser to the part-of-speech tagged words\n",
    "    chunks = chunk_parser.parse(pos_tags)\n",
    "    \n",
    "    # Extract the chunks from the parsed result\n",
    "    chunked_phrases = [subtree.leaves() for subtree in chunks.subtrees() if subtree.label() == 'NP']  # NP is chunk pattern\n",
    "\n",
    "    return sent, pos_tags, chunked_phrases\n",
    "\n",
    "sentence = \"The quick brown fox jumps over the lazy dog, BBC\"\n",
    "sent, pos_tags, chunked_phrases = get_chunking(sentence)\n",
    "print(\"Sent\\n\", sent)\n",
    "print(\"pos_tags\\n\", pos_tags)\n",
    "print(\"chunked_phrases\\n\", chunked_phrases)"
   ]
  },
  {
   "cell_type": "markdown",
   "metadata": {},
   "source": [
    "# `Chinking` is built on part of speech\n",
    "+ Chunking = `select`, select chunks from sentence \n",
    "+ Chinking = `remove`, remove chunks from sentence"
   ]
  },
  {
   "cell_type": "markdown",
   "metadata": {},
   "source": [
    "`Chinking` is the process of `excluding` certain `tokens from a chunk` that would normally be included based on a chunking rule. \n",
    "\n",
    "In other words, it's the `reverse of chunking`. While \n",
    "\n",
    "`chunking` involves `selecting specific patterns to form chunks`, \n",
    "\n",
    "`chinking` involves `specifying patterns to exclude from a chunk`."
   ]
  },
  {
   "cell_type": "code",
   "execution_count": 22,
   "metadata": {},
   "outputs": [
    {
     "name": "stdout",
     "output_type": "stream",
     "text": [
      "Sent\n",
      " The quick brown fox jumps over the lazy dog, BBC\n",
      "pos_tags\n",
      " [('The', 'DT'), ('quick', 'JJ'), ('brown', 'NN'), ('fox', 'NN'), ('jumps', 'VBZ'), ('over', 'IN'), ('the', 'DT'), ('lazy', 'JJ'), ('dog', 'NN'), (',', ','), ('BBC', 'NNP')]\n",
      "chunked_phrases\n",
      " [[('The', 'DT'), ('quick', 'JJ'), ('brown', 'NN')], [('fox', 'NN')], [('the', 'DT'), ('lazy', 'JJ'), ('dog', 'NN')]]\n"
     ]
    }
   ],
   "source": [
    "def get_chinking(sent):\n",
    "    tokens = word_tokenize(sent)\n",
    "    \n",
    "    # Perform part-of-speech tagging\n",
    "    pos_tags = pos_tag(tokens)\n",
    "    \n",
    "    # Define a chunking pattern with chinking\n",
    "    chunk_chink_pattern = r\"\"\"\n",
    "    NP: {<DT>?<JJ>*<NN>}    # Chunk Noun Phrases\n",
    "        }<VB.*>{            # Chink sequences of verbs\n",
    "        }<NNP>{             # Chink sequences of noun phrases\n",
    "        }<NN> <NN>{         # Chinking pattern to exclude consecutive nouns\n",
    "    \"\"\"\n",
    "    \n",
    "    # Create a chunk parser with the defined pattern\n",
    "    chunk_chink_parser = RegexpParser(chunk_chink_pattern)\n",
    "    \n",
    "    # Apply the chunk parser to the part-of-speech tagged words\n",
    "    chunks = chunk_chink_parser.parse(pos_tags)\n",
    "    \n",
    "    chunked_phrases = [subtree.leaves() for subtree in chunks.subtrees() if subtree.label() == 'NP']\n",
    "\n",
    "    return sent, pos_tags, chunked_phrases\n",
    "\n",
    "sentence = \"The quick brown fox jumps over the lazy dog, BBC\"\n",
    "sent, pos_tags, chunked_phrases = get_chinking(sentence)\n",
    "print(\"Sent\\n\", sent)\n",
    "print(\"pos_tags\\n\", pos_tags)\n",
    "print(\"chunked_phrases\\n\", chunked_phrases)"
   ]
  },
  {
   "cell_type": "markdown",
   "metadata": {},
   "source": [
    "# 1. Vectorization or One hot encoding"
   ]
  },
  {
   "cell_type": "markdown",
   "metadata": {},
   "source": [
    "word = feature = dimension"
   ]
  },
  {
   "cell_type": "markdown",
   "metadata": {},
   "source": [
    "![\"vectorization\"](imgs/vectorization.png)"
   ]
  },
  {
   "cell_type": "markdown",
   "metadata": {},
   "source": [
    "Cons:\n",
    "- vector increasing when unique values\n",
    "- increasing vectors will increase demiension will increase complexity\n",
    "- not relationship between values"
   ]
  },
  {
   "cell_type": "markdown",
   "metadata": {},
   "source": [
    "# 2. Count Vectorizer"
   ]
  },
  {
   "cell_type": "markdown",
   "metadata": {},
   "source": [
    "![\"count_vectorizer\"](imgs/count_vectorizer.png)"
   ]
  },
  {
   "cell_type": "code",
   "execution_count": 1,
   "metadata": {},
   "outputs": [],
   "source": [
    "from sklearn.feature_extraction.text import CountVectorizer"
   ]
  },
  {
   "cell_type": "code",
   "execution_count": 4,
   "metadata": {},
   "outputs": [
    {
     "name": "stdout",
     "output_type": "stream",
     "text": [
      "  (0, 3)\t1\n",
      "  (0, 1)\t1\n",
      "  (1, 0)\t1\n",
      "  (1, 2)\t1\n",
      "*********\n",
      "[[0 1 0 1]\n",
      " [1 0 1 0]]\n"
     ]
    }
   ],
   "source": [
    "Vectorizer = CountVectorizer()\n",
    "x = [\"Hello guys\", \"I am happy\"]\n",
    "values = Vectorizer.fit_transform(x)\n",
    "print(values)\n",
    "print('*'*9)\n",
    "values = Vectorizer.fit_transform(x).toarray()\n",
    "print(values)"
   ]
  },
  {
   "cell_type": "code",
   "execution_count": 9,
   "metadata": {},
   "outputs": [
    {
     "data": {
      "text/plain": [
       "array(['am', 'guys', 'happy', 'hello'], dtype=object)"
      ]
     },
     "execution_count": 9,
     "metadata": {},
     "output_type": "execute_result"
    }
   ],
   "source": [
    "names = Vectorizer.get_feature_names_out()\n",
    "names"
   ]
  },
  {
   "cell_type": "code",
   "execution_count": 10,
   "metadata": {},
   "outputs": [
    {
     "data": {
      "text/html": [
       "<div>\n",
       "<style scoped>\n",
       "    .dataframe tbody tr th:only-of-type {\n",
       "        vertical-align: middle;\n",
       "    }\n",
       "\n",
       "    .dataframe tbody tr th {\n",
       "        vertical-align: top;\n",
       "    }\n",
       "\n",
       "    .dataframe thead th {\n",
       "        text-align: right;\n",
       "    }\n",
       "</style>\n",
       "<table border=\"1\" class=\"dataframe\">\n",
       "  <thead>\n",
       "    <tr style=\"text-align: right;\">\n",
       "      <th></th>\n",
       "      <th>am</th>\n",
       "      <th>guys</th>\n",
       "      <th>happy</th>\n",
       "      <th>hello</th>\n",
       "    </tr>\n",
       "  </thead>\n",
       "  <tbody>\n",
       "    <tr>\n",
       "      <th>0</th>\n",
       "      <td>0</td>\n",
       "      <td>1</td>\n",
       "      <td>0</td>\n",
       "      <td>1</td>\n",
       "    </tr>\n",
       "    <tr>\n",
       "      <th>1</th>\n",
       "      <td>1</td>\n",
       "      <td>0</td>\n",
       "      <td>1</td>\n",
       "      <td>0</td>\n",
       "    </tr>\n",
       "  </tbody>\n",
       "</table>\n",
       "</div>"
      ],
      "text/plain": [
       "   am  guys  happy  hello\n",
       "0   0     1      0      1\n",
       "1   1     0      1      0"
      ]
     },
     "execution_count": 10,
     "metadata": {},
     "output_type": "execute_result"
    }
   ],
   "source": [
    "import pandas as pd\n",
    "pd.DataFrame(values, columns=names)"
   ]
  },
  {
   "cell_type": "markdown",
   "metadata": {},
   "source": [
    "test on dataset"
   ]
  },
  {
   "cell_type": "code",
   "execution_count": 1,
   "metadata": {},
   "outputs": [],
   "source": [
    "import pandas as pd\n",
    "import numpy as np"
   ]
  },
  {
   "cell_type": "code",
   "execution_count": 2,
   "metadata": {},
   "outputs": [
    {
     "data": {
      "text/html": [
       "<div>\n",
       "<style scoped>\n",
       "    .dataframe tbody tr th:only-of-type {\n",
       "        vertical-align: middle;\n",
       "    }\n",
       "\n",
       "    .dataframe tbody tr th {\n",
       "        vertical-align: top;\n",
       "    }\n",
       "\n",
       "    .dataframe thead th {\n",
       "        text-align: right;\n",
       "    }\n",
       "</style>\n",
       "<table border=\"1\" class=\"dataframe\">\n",
       "  <thead>\n",
       "    <tr style=\"text-align: right;\">\n",
       "      <th></th>\n",
       "      <th>business_id</th>\n",
       "      <th>date</th>\n",
       "      <th>review_id</th>\n",
       "      <th>stars</th>\n",
       "      <th>text</th>\n",
       "      <th>type</th>\n",
       "      <th>user_id</th>\n",
       "      <th>cool</th>\n",
       "      <th>useful</th>\n",
       "      <th>funny</th>\n",
       "    </tr>\n",
       "  </thead>\n",
       "  <tbody>\n",
       "    <tr>\n",
       "      <th>0</th>\n",
       "      <td>9yKzy9PApeiPPOUJEtnvkg</td>\n",
       "      <td>2011-01-26</td>\n",
       "      <td>fWKvX83p0-ka4JS3dc6E5A</td>\n",
       "      <td>5</td>\n",
       "      <td>My wife took me here on my birthday for breakf...</td>\n",
       "      <td>review</td>\n",
       "      <td>rLtl8ZkDX5vH5nAx9C3q5Q</td>\n",
       "      <td>2</td>\n",
       "      <td>5</td>\n",
       "      <td>0</td>\n",
       "    </tr>\n",
       "    <tr>\n",
       "      <th>1</th>\n",
       "      <td>ZRJwVLyzEJq1VAihDhYiow</td>\n",
       "      <td>2011-07-27</td>\n",
       "      <td>IjZ33sJrzXqU-0X6U8NwyA</td>\n",
       "      <td>5</td>\n",
       "      <td>I have no idea why some people give bad review...</td>\n",
       "      <td>review</td>\n",
       "      <td>0a2KyEL0d3Yb1V6aivbIuQ</td>\n",
       "      <td>0</td>\n",
       "      <td>0</td>\n",
       "      <td>0</td>\n",
       "    </tr>\n",
       "    <tr>\n",
       "      <th>2</th>\n",
       "      <td>6oRAC4uyJCsJl1X0WZpVSA</td>\n",
       "      <td>2012-06-14</td>\n",
       "      <td>IESLBzqUCLdSzSqm0eCSxQ</td>\n",
       "      <td>4</td>\n",
       "      <td>love the gyro plate. Rice is so good and I als...</td>\n",
       "      <td>review</td>\n",
       "      <td>0hT2KtfLiobPvh6cDC8JQg</td>\n",
       "      <td>0</td>\n",
       "      <td>1</td>\n",
       "      <td>0</td>\n",
       "    </tr>\n",
       "    <tr>\n",
       "      <th>3</th>\n",
       "      <td>_1QQZuf4zZOyFCvXc0o6Vg</td>\n",
       "      <td>2010-05-27</td>\n",
       "      <td>G-WvGaISbqqaMHlNnByodA</td>\n",
       "      <td>5</td>\n",
       "      <td>Rosie, Dakota, and I LOVE Chaparral Dog Park!!...</td>\n",
       "      <td>review</td>\n",
       "      <td>uZetl9T0NcROGOyFfughhg</td>\n",
       "      <td>1</td>\n",
       "      <td>2</td>\n",
       "      <td>0</td>\n",
       "    </tr>\n",
       "    <tr>\n",
       "      <th>4</th>\n",
       "      <td>6ozycU1RpktNG2-1BroVtw</td>\n",
       "      <td>2012-01-05</td>\n",
       "      <td>1uJFq2r5QfJG_6ExMRCaGw</td>\n",
       "      <td>5</td>\n",
       "      <td>General Manager Scott Petello is a good egg!!!...</td>\n",
       "      <td>review</td>\n",
       "      <td>vYmM4KTsC8ZfQBg-j5MWkw</td>\n",
       "      <td>0</td>\n",
       "      <td>0</td>\n",
       "      <td>0</td>\n",
       "    </tr>\n",
       "  </tbody>\n",
       "</table>\n",
       "</div>"
      ],
      "text/plain": [
       "              business_id        date               review_id  stars  \\\n",
       "0  9yKzy9PApeiPPOUJEtnvkg  2011-01-26  fWKvX83p0-ka4JS3dc6E5A      5   \n",
       "1  ZRJwVLyzEJq1VAihDhYiow  2011-07-27  IjZ33sJrzXqU-0X6U8NwyA      5   \n",
       "2  6oRAC4uyJCsJl1X0WZpVSA  2012-06-14  IESLBzqUCLdSzSqm0eCSxQ      4   \n",
       "3  _1QQZuf4zZOyFCvXc0o6Vg  2010-05-27  G-WvGaISbqqaMHlNnByodA      5   \n",
       "4  6ozycU1RpktNG2-1BroVtw  2012-01-05  1uJFq2r5QfJG_6ExMRCaGw      5   \n",
       "\n",
       "                                                text    type  \\\n",
       "0  My wife took me here on my birthday for breakf...  review   \n",
       "1  I have no idea why some people give bad review...  review   \n",
       "2  love the gyro plate. Rice is so good and I als...  review   \n",
       "3  Rosie, Dakota, and I LOVE Chaparral Dog Park!!...  review   \n",
       "4  General Manager Scott Petello is a good egg!!!...  review   \n",
       "\n",
       "                  user_id  cool  useful  funny  \n",
       "0  rLtl8ZkDX5vH5nAx9C3q5Q     2       5      0  \n",
       "1  0a2KyEL0d3Yb1V6aivbIuQ     0       0      0  \n",
       "2  0hT2KtfLiobPvh6cDC8JQg     0       1      0  \n",
       "3  uZetl9T0NcROGOyFfughhg     1       2      0  \n",
       "4  vYmM4KTsC8ZfQBg-j5MWkw     0       0      0  "
      ]
     },
     "execution_count": 2,
     "metadata": {},
     "output_type": "execute_result"
    }
   ],
   "source": [
    "df = pd.read_csv(r\"datasets/yelp.csv\")\n",
    "df.head()"
   ]
  },
  {
   "cell_type": "code",
   "execution_count": 3,
   "metadata": {},
   "outputs": [
    {
     "name": "stdout",
     "output_type": "stream",
     "text": [
      "<class 'pandas.core.frame.DataFrame'>\n",
      "RangeIndex: 10000 entries, 0 to 9999\n",
      "Data columns (total 10 columns):\n",
      " #   Column       Non-Null Count  Dtype \n",
      "---  ------       --------------  ----- \n",
      " 0   business_id  10000 non-null  object\n",
      " 1   date         10000 non-null  object\n",
      " 2   review_id    10000 non-null  object\n",
      " 3   stars        10000 non-null  int64 \n",
      " 4   text         10000 non-null  object\n",
      " 5   type         10000 non-null  object\n",
      " 6   user_id      10000 non-null  object\n",
      " 7   cool         10000 non-null  int64 \n",
      " 8   useful       10000 non-null  int64 \n",
      " 9   funny        10000 non-null  int64 \n",
      "dtypes: int64(4), object(6)\n",
      "memory usage: 781.4+ KB\n"
     ]
    }
   ],
   "source": [
    "df.info()"
   ]
  },
  {
   "cell_type": "code",
   "execution_count": 4,
   "metadata": {},
   "outputs": [
    {
     "data": {
      "text/plain": [
       "stars\n",
       "4    3526\n",
       "5    3337\n",
       "3    1461\n",
       "2     927\n",
       "1     749\n",
       "Name: count, dtype: int64"
      ]
     },
     "execution_count": 4,
     "metadata": {},
     "output_type": "execute_result"
    }
   ],
   "source": [
    "df['stars'].value_counts()"
   ]
  },
  {
   "cell_type": "code",
   "execution_count": 5,
   "metadata": {},
   "outputs": [
    {
     "data": {
      "text/plain": [
       "stars\n",
       "5    3337\n",
       "1     749\n",
       "Name: count, dtype: int64"
      ]
     },
     "execution_count": 5,
     "metadata": {},
     "output_type": "execute_result"
    }
   ],
   "source": [
    "df_stars_1_5 = df[(df['stars'] == 1) | (df['stars'] == 5)]\n",
    "df_stars_1_5['stars'].value_counts()"
   ]
  },
  {
   "cell_type": "markdown",
   "metadata": {},
   "source": [
    ".values to convert series or dataframe to list or numpy"
   ]
  },
  {
   "cell_type": "code",
   "execution_count": 6,
   "metadata": {},
   "outputs": [],
   "source": [
    "x= df_stars_1_5['text'].values\n",
    "y = df_stars_1_5['stars'].values"
   ]
  },
  {
   "cell_type": "code",
   "execution_count": 9,
   "metadata": {},
   "outputs": [
    {
     "data": {
      "text/plain": [
       "numpy.ndarray"
      ]
     },
     "execution_count": 9,
     "metadata": {},
     "output_type": "execute_result"
    }
   ],
   "source": [
    "type(x)"
   ]
  },
  {
   "cell_type": "code",
   "execution_count": 18,
   "metadata": {},
   "outputs": [],
   "source": [
    "import re\n",
    "from nltk.stem import PorterStemmer\n",
    "from nltk.corpus import stopwords\n",
    "from nltk.tokenize import word_tokenize"
   ]
  },
  {
   "cell_type": "code",
   "execution_count": 13,
   "metadata": {},
   "outputs": [
    {
     "data": {
      "text/plain": [
       "'My wife took me here on my birthday for breakfast and it was excellent.  The weather was perfect which made sitting outside overlooking their grounds an absolute pleasure.  Our waitress was excellent and our food arrived quickly on the semi-busy Saturday morning.  It looked like the place fills up pretty quickly so the earlier you get here the better.\\n\\nDo yourself a favor and get their Bloody Mary.  It was phenomenal and simply the best I\\'ve ever had.  I\\'m pretty sure they only use ingredients from their garden and blend them fresh when you order it.  It was amazing.\\n\\nWhile EVERYTHING on the menu looks excellent, I had the white truffle scrambled eggs vegetable skillet and it was tasty and delicious.  It came with 2 pieces of their griddled bread with was amazing and it absolutely made the meal complete.  It was the best \"toast\" I\\'ve ever had.\\n\\nAnyway, I can\\'t wait to go back!'"
      ]
     },
     "execution_count": 13,
     "metadata": {},
     "output_type": "execute_result"
    }
   ],
   "source": [
    "x[0]"
   ]
  },
  {
   "cell_type": "markdown",
   "metadata": {},
   "source": [
    "replace any thing not characters to space"
   ]
  },
  {
   "cell_type": "code",
   "execution_count": 16,
   "metadata": {},
   "outputs": [
    {
     "data": {
      "text/plain": [
       "'My wife took me here on my birthday for breakfast and it was excellent   The weather was perfect which made sitting outside overlooking their grounds an absolute pleasure   Our waitress was excellent and our food arrived quickly on the semi busy Saturday morning   It looked like the place fills up pretty quickly so the earlier you get here the better   Do yourself a favor and get their Bloody Mary   It was phenomenal and simply the best I ve ever had   I m pretty sure they only use ingredients from their garden and blend them fresh when you order it   It was amazing   While EVERYTHING on the menu looks excellent  I had the white truffle scrambled eggs vegetable skillet and it was tasty and delicious   It came with   pieces of their griddled bread with was amazing and it absolutely made the meal complete   It was the best  toast  I ve ever had   Anyway  I can t wait to go back '"
      ]
     },
     "execution_count": 16,
     "metadata": {},
     "output_type": "execute_result"
    }
   ],
   "source": [
    "re.sub('[^a-zA-Z]', ' ', x[0])"
   ]
  },
  {
   "cell_type": "markdown",
   "metadata": {},
   "source": [
    "1. Preprocessing"
   ]
  },
  {
   "cell_type": "code",
   "execution_count": 20,
   "metadata": {},
   "outputs": [],
   "source": [
    "corpus= []\n",
    "for row in range(0,len(x)):\n",
    "    reviews = re.sub('[^a-zA-Z]', ' ', x[row])\n",
    "    reviews = word_tokenize(reviews.lower())\n",
    "    stemmer = PorterStemmer()\n",
    "    stop_words = stopwords.words('English')\n",
    "    stop_words.remove('not')\n",
    "    reviews = [stemmer.stem(word) for word in reviews if word not in stop_words]\n",
    "    reviews = ' '.join(reviews)\n",
    "    corpus.append(reviews)"
   ]
  },
  {
   "cell_type": "code",
   "execution_count": 23,
   "metadata": {},
   "outputs": [
    {
     "data": {
      "text/plain": [
       "list"
      ]
     },
     "execution_count": 23,
     "metadata": {},
     "output_type": "execute_result"
    }
   ],
   "source": [
    "type(corpus)"
   ]
  },
  {
   "cell_type": "markdown",
   "metadata": {},
   "source": [
    "2. Vectorization"
   ]
  },
  {
   "cell_type": "code",
   "execution_count": 22,
   "metadata": {},
   "outputs": [],
   "source": [
    "from sklearn.feature_extraction.text import CountVectorizer"
   ]
  },
  {
   "cell_type": "code",
   "execution_count": 41,
   "metadata": {},
   "outputs": [
    {
     "data": {
      "text/plain": [
       "array(['aa', 'aaa', 'aaaamaz', ..., 'zwftv', 'zwiebel', 'zzed'],\n",
       "      dtype=object)"
      ]
     },
     "execution_count": 41,
     "metadata": {},
     "output_type": "execute_result"
    }
   ],
   "source": [
    "Vectorizer = CountVectorizer()\n",
    "x = Vectorizer.fit_transform(corpus).toarray()\n",
    "names = Vectorizer.get_feature_names_out()\n",
    "names"
   ]
  },
  {
   "cell_type": "code",
   "execution_count": 42,
   "metadata": {},
   "outputs": [
    {
     "data": {
      "text/plain": [
       "12998"
      ]
     },
     "execution_count": 42,
     "metadata": {},
     "output_type": "execute_result"
    }
   ],
   "source": [
    "len(Vectorizer.get_feature_names_out())"
   ]
  },
  {
   "cell_type": "code",
   "execution_count": 43,
   "metadata": {},
   "outputs": [
    {
     "data": {
      "text/html": [
       "<div>\n",
       "<style scoped>\n",
       "    .dataframe tbody tr th:only-of-type {\n",
       "        vertical-align: middle;\n",
       "    }\n",
       "\n",
       "    .dataframe tbody tr th {\n",
       "        vertical-align: top;\n",
       "    }\n",
       "\n",
       "    .dataframe thead th {\n",
       "        text-align: right;\n",
       "    }\n",
       "</style>\n",
       "<table border=\"1\" class=\"dataframe\">\n",
       "  <thead>\n",
       "    <tr style=\"text-align: right;\">\n",
       "      <th></th>\n",
       "      <th>aa</th>\n",
       "      <th>aaa</th>\n",
       "      <th>aaaamaz</th>\n",
       "      <th>aaammmazz</th>\n",
       "      <th>aaron</th>\n",
       "      <th>ab</th>\n",
       "      <th>aback</th>\n",
       "      <th>abandon</th>\n",
       "      <th>abba</th>\n",
       "      <th>abbi</th>\n",
       "      <th>...</th>\n",
       "      <th>zucca</th>\n",
       "      <th>zucchini</th>\n",
       "      <th>zuccini</th>\n",
       "      <th>zuchinni</th>\n",
       "      <th>zumba</th>\n",
       "      <th>zupa</th>\n",
       "      <th>zuzu</th>\n",
       "      <th>zwftv</th>\n",
       "      <th>zwiebel</th>\n",
       "      <th>zzed</th>\n",
       "    </tr>\n",
       "  </thead>\n",
       "  <tbody>\n",
       "    <tr>\n",
       "      <th>0</th>\n",
       "      <td>0</td>\n",
       "      <td>0</td>\n",
       "      <td>0</td>\n",
       "      <td>0</td>\n",
       "      <td>0</td>\n",
       "      <td>0</td>\n",
       "      <td>0</td>\n",
       "      <td>0</td>\n",
       "      <td>0</td>\n",
       "      <td>0</td>\n",
       "      <td>...</td>\n",
       "      <td>0</td>\n",
       "      <td>0</td>\n",
       "      <td>0</td>\n",
       "      <td>0</td>\n",
       "      <td>0</td>\n",
       "      <td>0</td>\n",
       "      <td>0</td>\n",
       "      <td>0</td>\n",
       "      <td>0</td>\n",
       "      <td>0</td>\n",
       "    </tr>\n",
       "    <tr>\n",
       "      <th>1</th>\n",
       "      <td>0</td>\n",
       "      <td>0</td>\n",
       "      <td>0</td>\n",
       "      <td>0</td>\n",
       "      <td>0</td>\n",
       "      <td>0</td>\n",
       "      <td>0</td>\n",
       "      <td>0</td>\n",
       "      <td>0</td>\n",
       "      <td>0</td>\n",
       "      <td>...</td>\n",
       "      <td>0</td>\n",
       "      <td>0</td>\n",
       "      <td>0</td>\n",
       "      <td>0</td>\n",
       "      <td>0</td>\n",
       "      <td>0</td>\n",
       "      <td>0</td>\n",
       "      <td>0</td>\n",
       "      <td>0</td>\n",
       "      <td>0</td>\n",
       "    </tr>\n",
       "    <tr>\n",
       "      <th>2</th>\n",
       "      <td>0</td>\n",
       "      <td>0</td>\n",
       "      <td>0</td>\n",
       "      <td>0</td>\n",
       "      <td>0</td>\n",
       "      <td>0</td>\n",
       "      <td>0</td>\n",
       "      <td>0</td>\n",
       "      <td>0</td>\n",
       "      <td>0</td>\n",
       "      <td>...</td>\n",
       "      <td>0</td>\n",
       "      <td>0</td>\n",
       "      <td>0</td>\n",
       "      <td>0</td>\n",
       "      <td>0</td>\n",
       "      <td>0</td>\n",
       "      <td>0</td>\n",
       "      <td>0</td>\n",
       "      <td>0</td>\n",
       "      <td>0</td>\n",
       "    </tr>\n",
       "    <tr>\n",
       "      <th>3</th>\n",
       "      <td>0</td>\n",
       "      <td>0</td>\n",
       "      <td>0</td>\n",
       "      <td>0</td>\n",
       "      <td>0</td>\n",
       "      <td>0</td>\n",
       "      <td>0</td>\n",
       "      <td>0</td>\n",
       "      <td>0</td>\n",
       "      <td>0</td>\n",
       "      <td>...</td>\n",
       "      <td>0</td>\n",
       "      <td>0</td>\n",
       "      <td>0</td>\n",
       "      <td>0</td>\n",
       "      <td>0</td>\n",
       "      <td>0</td>\n",
       "      <td>0</td>\n",
       "      <td>0</td>\n",
       "      <td>0</td>\n",
       "      <td>0</td>\n",
       "    </tr>\n",
       "    <tr>\n",
       "      <th>4</th>\n",
       "      <td>0</td>\n",
       "      <td>0</td>\n",
       "      <td>0</td>\n",
       "      <td>0</td>\n",
       "      <td>0</td>\n",
       "      <td>0</td>\n",
       "      <td>0</td>\n",
       "      <td>0</td>\n",
       "      <td>0</td>\n",
       "      <td>0</td>\n",
       "      <td>...</td>\n",
       "      <td>0</td>\n",
       "      <td>0</td>\n",
       "      <td>0</td>\n",
       "      <td>0</td>\n",
       "      <td>0</td>\n",
       "      <td>0</td>\n",
       "      <td>0</td>\n",
       "      <td>0</td>\n",
       "      <td>0</td>\n",
       "      <td>0</td>\n",
       "    </tr>\n",
       "    <tr>\n",
       "      <th>...</th>\n",
       "      <td>...</td>\n",
       "      <td>...</td>\n",
       "      <td>...</td>\n",
       "      <td>...</td>\n",
       "      <td>...</td>\n",
       "      <td>...</td>\n",
       "      <td>...</td>\n",
       "      <td>...</td>\n",
       "      <td>...</td>\n",
       "      <td>...</td>\n",
       "      <td>...</td>\n",
       "      <td>...</td>\n",
       "      <td>...</td>\n",
       "      <td>...</td>\n",
       "      <td>...</td>\n",
       "      <td>...</td>\n",
       "      <td>...</td>\n",
       "      <td>...</td>\n",
       "      <td>...</td>\n",
       "      <td>...</td>\n",
       "      <td>...</td>\n",
       "    </tr>\n",
       "    <tr>\n",
       "      <th>4081</th>\n",
       "      <td>0</td>\n",
       "      <td>0</td>\n",
       "      <td>0</td>\n",
       "      <td>0</td>\n",
       "      <td>0</td>\n",
       "      <td>0</td>\n",
       "      <td>0</td>\n",
       "      <td>0</td>\n",
       "      <td>0</td>\n",
       "      <td>0</td>\n",
       "      <td>...</td>\n",
       "      <td>0</td>\n",
       "      <td>0</td>\n",
       "      <td>0</td>\n",
       "      <td>0</td>\n",
       "      <td>0</td>\n",
       "      <td>0</td>\n",
       "      <td>0</td>\n",
       "      <td>0</td>\n",
       "      <td>0</td>\n",
       "      <td>0</td>\n",
       "    </tr>\n",
       "    <tr>\n",
       "      <th>4082</th>\n",
       "      <td>0</td>\n",
       "      <td>0</td>\n",
       "      <td>0</td>\n",
       "      <td>0</td>\n",
       "      <td>0</td>\n",
       "      <td>0</td>\n",
       "      <td>0</td>\n",
       "      <td>0</td>\n",
       "      <td>0</td>\n",
       "      <td>0</td>\n",
       "      <td>...</td>\n",
       "      <td>0</td>\n",
       "      <td>0</td>\n",
       "      <td>0</td>\n",
       "      <td>0</td>\n",
       "      <td>0</td>\n",
       "      <td>0</td>\n",
       "      <td>0</td>\n",
       "      <td>0</td>\n",
       "      <td>0</td>\n",
       "      <td>0</td>\n",
       "    </tr>\n",
       "    <tr>\n",
       "      <th>4083</th>\n",
       "      <td>0</td>\n",
       "      <td>0</td>\n",
       "      <td>0</td>\n",
       "      <td>0</td>\n",
       "      <td>0</td>\n",
       "      <td>0</td>\n",
       "      <td>0</td>\n",
       "      <td>0</td>\n",
       "      <td>0</td>\n",
       "      <td>0</td>\n",
       "      <td>...</td>\n",
       "      <td>0</td>\n",
       "      <td>0</td>\n",
       "      <td>0</td>\n",
       "      <td>0</td>\n",
       "      <td>0</td>\n",
       "      <td>0</td>\n",
       "      <td>0</td>\n",
       "      <td>0</td>\n",
       "      <td>0</td>\n",
       "      <td>0</td>\n",
       "    </tr>\n",
       "    <tr>\n",
       "      <th>4084</th>\n",
       "      <td>0</td>\n",
       "      <td>0</td>\n",
       "      <td>0</td>\n",
       "      <td>0</td>\n",
       "      <td>0</td>\n",
       "      <td>0</td>\n",
       "      <td>0</td>\n",
       "      <td>0</td>\n",
       "      <td>0</td>\n",
       "      <td>0</td>\n",
       "      <td>...</td>\n",
       "      <td>0</td>\n",
       "      <td>0</td>\n",
       "      <td>0</td>\n",
       "      <td>0</td>\n",
       "      <td>0</td>\n",
       "      <td>0</td>\n",
       "      <td>0</td>\n",
       "      <td>0</td>\n",
       "      <td>0</td>\n",
       "      <td>0</td>\n",
       "    </tr>\n",
       "    <tr>\n",
       "      <th>4085</th>\n",
       "      <td>0</td>\n",
       "      <td>0</td>\n",
       "      <td>0</td>\n",
       "      <td>0</td>\n",
       "      <td>0</td>\n",
       "      <td>0</td>\n",
       "      <td>0</td>\n",
       "      <td>0</td>\n",
       "      <td>0</td>\n",
       "      <td>0</td>\n",
       "      <td>...</td>\n",
       "      <td>0</td>\n",
       "      <td>0</td>\n",
       "      <td>0</td>\n",
       "      <td>0</td>\n",
       "      <td>0</td>\n",
       "      <td>0</td>\n",
       "      <td>0</td>\n",
       "      <td>0</td>\n",
       "      <td>0</td>\n",
       "      <td>0</td>\n",
       "    </tr>\n",
       "  </tbody>\n",
       "</table>\n",
       "<p>4086 rows × 12998 columns</p>\n",
       "</div>"
      ],
      "text/plain": [
       "      aa  aaa  aaaamaz  aaammmazz  aaron  ab  aback  abandon  abba  abbi  ...  \\\n",
       "0      0    0        0          0      0   0      0        0     0     0  ...   \n",
       "1      0    0        0          0      0   0      0        0     0     0  ...   \n",
       "2      0    0        0          0      0   0      0        0     0     0  ...   \n",
       "3      0    0        0          0      0   0      0        0     0     0  ...   \n",
       "4      0    0        0          0      0   0      0        0     0     0  ...   \n",
       "...   ..  ...      ...        ...    ...  ..    ...      ...   ...   ...  ...   \n",
       "4081   0    0        0          0      0   0      0        0     0     0  ...   \n",
       "4082   0    0        0          0      0   0      0        0     0     0  ...   \n",
       "4083   0    0        0          0      0   0      0        0     0     0  ...   \n",
       "4084   0    0        0          0      0   0      0        0     0     0  ...   \n",
       "4085   0    0        0          0      0   0      0        0     0     0  ...   \n",
       "\n",
       "      zucca  zucchini  zuccini  zuchinni  zumba  zupa  zuzu  zwftv  zwiebel  \\\n",
       "0         0         0        0         0      0     0     0      0        0   \n",
       "1         0         0        0         0      0     0     0      0        0   \n",
       "2         0         0        0         0      0     0     0      0        0   \n",
       "3         0         0        0         0      0     0     0      0        0   \n",
       "4         0         0        0         0      0     0     0      0        0   \n",
       "...     ...       ...      ...       ...    ...   ...   ...    ...      ...   \n",
       "4081      0         0        0         0      0     0     0      0        0   \n",
       "4082      0         0        0         0      0     0     0      0        0   \n",
       "4083      0         0        0         0      0     0     0      0        0   \n",
       "4084      0         0        0         0      0     0     0      0        0   \n",
       "4085      0         0        0         0      0     0     0      0        0   \n",
       "\n",
       "      zzed  \n",
       "0        0  \n",
       "1        0  \n",
       "2        0  \n",
       "3        0  \n",
       "4        0  \n",
       "...    ...  \n",
       "4081     0  \n",
       "4082     0  \n",
       "4083     0  \n",
       "4084     0  \n",
       "4085     0  \n",
       "\n",
       "[4086 rows x 12998 columns]"
      ]
     },
     "execution_count": 43,
     "metadata": {},
     "output_type": "execute_result"
    }
   ],
   "source": [
    "df = pd.DataFrame(x, columns= names)\n",
    "df"
   ]
  },
  {
   "cell_type": "markdown",
   "metadata": {},
   "source": [
    "3. Training"
   ]
  },
  {
   "cell_type": "code",
   "execution_count": 44,
   "metadata": {},
   "outputs": [],
   "source": [
    "from sklearn.model_selection import train_test_split"
   ]
  },
  {
   "cell_type": "code",
   "execution_count": 45,
   "metadata": {},
   "outputs": [],
   "source": [
    "x_train, x_test, y_train, y_test = train_test_split(x,y,test_size=0.3)"
   ]
  },
  {
   "cell_type": "code",
   "execution_count": 46,
   "metadata": {},
   "outputs": [],
   "source": [
    "from sklearn.ensemble import RandomForestClassifier"
   ]
  },
  {
   "cell_type": "code",
   "execution_count": 47,
   "metadata": {},
   "outputs": [
    {
     "data": {
      "text/html": [
       "<style>#sk-container-id-1 {color: black;}#sk-container-id-1 pre{padding: 0;}#sk-container-id-1 div.sk-toggleable {background-color: white;}#sk-container-id-1 label.sk-toggleable__label {cursor: pointer;display: block;width: 100%;margin-bottom: 0;padding: 0.3em;box-sizing: border-box;text-align: center;}#sk-container-id-1 label.sk-toggleable__label-arrow:before {content: \"▸\";float: left;margin-right: 0.25em;color: #696969;}#sk-container-id-1 label.sk-toggleable__label-arrow:hover:before {color: black;}#sk-container-id-1 div.sk-estimator:hover label.sk-toggleable__label-arrow:before {color: black;}#sk-container-id-1 div.sk-toggleable__content {max-height: 0;max-width: 0;overflow: hidden;text-align: left;background-color: #f0f8ff;}#sk-container-id-1 div.sk-toggleable__content pre {margin: 0.2em;color: black;border-radius: 0.25em;background-color: #f0f8ff;}#sk-container-id-1 input.sk-toggleable__control:checked~div.sk-toggleable__content {max-height: 200px;max-width: 100%;overflow: auto;}#sk-container-id-1 input.sk-toggleable__control:checked~label.sk-toggleable__label-arrow:before {content: \"▾\";}#sk-container-id-1 div.sk-estimator input.sk-toggleable__control:checked~label.sk-toggleable__label {background-color: #d4ebff;}#sk-container-id-1 div.sk-label input.sk-toggleable__control:checked~label.sk-toggleable__label {background-color: #d4ebff;}#sk-container-id-1 input.sk-hidden--visually {border: 0;clip: rect(1px 1px 1px 1px);clip: rect(1px, 1px, 1px, 1px);height: 1px;margin: -1px;overflow: hidden;padding: 0;position: absolute;width: 1px;}#sk-container-id-1 div.sk-estimator {font-family: monospace;background-color: #f0f8ff;border: 1px dotted black;border-radius: 0.25em;box-sizing: border-box;margin-bottom: 0.5em;}#sk-container-id-1 div.sk-estimator:hover {background-color: #d4ebff;}#sk-container-id-1 div.sk-parallel-item::after {content: \"\";width: 100%;border-bottom: 1px solid gray;flex-grow: 1;}#sk-container-id-1 div.sk-label:hover label.sk-toggleable__label {background-color: #d4ebff;}#sk-container-id-1 div.sk-serial::before {content: \"\";position: absolute;border-left: 1px solid gray;box-sizing: border-box;top: 0;bottom: 0;left: 50%;z-index: 0;}#sk-container-id-1 div.sk-serial {display: flex;flex-direction: column;align-items: center;background-color: white;padding-right: 0.2em;padding-left: 0.2em;position: relative;}#sk-container-id-1 div.sk-item {position: relative;z-index: 1;}#sk-container-id-1 div.sk-parallel {display: flex;align-items: stretch;justify-content: center;background-color: white;position: relative;}#sk-container-id-1 div.sk-item::before, #sk-container-id-1 div.sk-parallel-item::before {content: \"\";position: absolute;border-left: 1px solid gray;box-sizing: border-box;top: 0;bottom: 0;left: 50%;z-index: -1;}#sk-container-id-1 div.sk-parallel-item {display: flex;flex-direction: column;z-index: 1;position: relative;background-color: white;}#sk-container-id-1 div.sk-parallel-item:first-child::after {align-self: flex-end;width: 50%;}#sk-container-id-1 div.sk-parallel-item:last-child::after {align-self: flex-start;width: 50%;}#sk-container-id-1 div.sk-parallel-item:only-child::after {width: 0;}#sk-container-id-1 div.sk-dashed-wrapped {border: 1px dashed gray;margin: 0 0.4em 0.5em 0.4em;box-sizing: border-box;padding-bottom: 0.4em;background-color: white;}#sk-container-id-1 div.sk-label label {font-family: monospace;font-weight: bold;display: inline-block;line-height: 1.2em;}#sk-container-id-1 div.sk-label-container {text-align: center;}#sk-container-id-1 div.sk-container {/* jupyter's `normalize.less` sets `[hidden] { display: none; }` but bootstrap.min.css set `[hidden] { display: none !important; }` so we also need the `!important` here to be able to override the default hidden behavior on the sphinx rendered scikit-learn.org. See: https://github.com/scikit-learn/scikit-learn/issues/21755 */display: inline-block !important;position: relative;}#sk-container-id-1 div.sk-text-repr-fallback {display: none;}</style><div id=\"sk-container-id-1\" class=\"sk-top-container\"><div class=\"sk-text-repr-fallback\"><pre>RandomForestClassifier()</pre><b>In a Jupyter environment, please rerun this cell to show the HTML representation or trust the notebook. <br />On GitHub, the HTML representation is unable to render, please try loading this page with nbviewer.org.</b></div><div class=\"sk-container\" hidden><div class=\"sk-item\"><div class=\"sk-estimator sk-toggleable\"><input class=\"sk-toggleable__control sk-hidden--visually\" id=\"sk-estimator-id-1\" type=\"checkbox\" checked><label for=\"sk-estimator-id-1\" class=\"sk-toggleable__label sk-toggleable__label-arrow\">RandomForestClassifier</label><div class=\"sk-toggleable__content\"><pre>RandomForestClassifier()</pre></div></div></div></div></div>"
      ],
      "text/plain": [
       "RandomForestClassifier()"
      ]
     },
     "execution_count": 47,
     "metadata": {},
     "output_type": "execute_result"
    }
   ],
   "source": [
    "classifier = RandomForestClassifier()\n",
    "model = classifier.fit(x_train, y_train)\n",
    "model"
   ]
  },
  {
   "cell_type": "code",
   "execution_count": 48,
   "metadata": {},
   "outputs": [
    {
     "data": {
      "text/plain": [
       "array([5, 5, 5, ..., 5, 5, 5], dtype=int64)"
      ]
     },
     "execution_count": 48,
     "metadata": {},
     "output_type": "execute_result"
    }
   ],
   "source": [
    "preds = classifier.predict(x_test)\n",
    "preds"
   ]
  },
  {
   "cell_type": "code",
   "execution_count": 49,
   "metadata": {},
   "outputs": [],
   "source": [
    "from sklearn.metrics import confusion_matrix, classification_report"
   ]
  },
  {
   "cell_type": "code",
   "execution_count": 53,
   "metadata": {},
   "outputs": [
    {
     "data": {
      "text/plain": [
       "array([[ 93, 132],\n",
       "       [  6, 995]], dtype=int64)"
      ]
     },
     "execution_count": 53,
     "metadata": {},
     "output_type": "execute_result"
    }
   ],
   "source": [
    "confusion_matrix(y_test,preds)"
   ]
  },
  {
   "cell_type": "code",
   "execution_count": 55,
   "metadata": {},
   "outputs": [
    {
     "name": "stdout",
     "output_type": "stream",
     "text": [
      "              precision    recall  f1-score   support\n",
      "\n",
      "           1       0.94      0.41      0.57       225\n",
      "           5       0.88      0.99      0.94      1001\n",
      "\n",
      "    accuracy                           0.89      1226\n",
      "   macro avg       0.91      0.70      0.75      1226\n",
      "weighted avg       0.89      0.89      0.87      1226\n",
      "\n"
     ]
    }
   ],
   "source": [
    "print(classification_report(y_test,preds))"
   ]
  },
  {
   "cell_type": "markdown",
   "metadata": {},
   "source": [
    "# 3. TF-IDF Term Frequency - Inverse Document Frequency\n"
   ]
  },
  {
   "cell_type": "markdown",
   "metadata": {},
   "source": [
    "is better than `CountVectorizer`"
   ]
  },
  {
   "cell_type": "markdown",
   "metadata": {},
   "source": [
    "![\"tfidf\"](imgs/tfidf_1.png)"
   ]
  },
  {
   "cell_type": "markdown",
   "metadata": {},
   "source": [
    "![\"tfidf_2\"](imgs/tfidf_2.png)"
   ]
  },
  {
   "cell_type": "markdown",
   "metadata": {},
   "source": [
    "- 20 sentences\n",
    "- 5 words \n",
    "- word appear in `one sentence` then tf = count_word/ len_sentance = `1/5`\n",
    "- idf = log(len_sentance/ count_word) = `log(20/1)`\n",
    "- result = tf * idf = `1/5 * log(20/1)`\n",
    "\n",
    "- special case: in case `df = 0` means count_word is 0, we `add one to df`: log(len_sentance/ count_word + 1) to `avoid division by zero`"
   ]
  },
  {
   "cell_type": "code",
   "execution_count": 3,
   "metadata": {},
   "outputs": [],
   "source": [
    "from sklearn.feature_extraction.text import CountVectorizer, TfidfVectorizer\n",
    "import pandas as pd"
   ]
  },
  {
   "cell_type": "code",
   "execution_count": 4,
   "metadata": {},
   "outputs": [],
   "source": [
    "def create_table(lst, vectorizer):\n",
    "    matrix = vectorizer.fit_transform(lst).toarray()\n",
    "    names = vectorizer.get_feature_names_out()\n",
    "    return pd.DataFrame(matrix, columns=names)"
   ]
  },
  {
   "cell_type": "code",
   "execution_count": 5,
   "metadata": {},
   "outputs": [
    {
     "data": {
      "text/html": [
       "<div>\n",
       "<style scoped>\n",
       "    .dataframe tbody tr th:only-of-type {\n",
       "        vertical-align: middle;\n",
       "    }\n",
       "\n",
       "    .dataframe tbody tr th {\n",
       "        vertical-align: top;\n",
       "    }\n",
       "\n",
       "    .dataframe thead th {\n",
       "        text-align: right;\n",
       "    }\n",
       "</style>\n",
       "<table border=\"1\" class=\"dataframe\">\n",
       "  <thead>\n",
       "    <tr style=\"text-align: right;\">\n",
       "      <th></th>\n",
       "      <th>eats</th>\n",
       "      <th>everything</th>\n",
       "      <th>football</th>\n",
       "      <th>he</th>\n",
       "      <th>likes</th>\n",
       "      <th>much</th>\n",
       "      <th>play</th>\n",
       "      <th>so</th>\n",
       "      <th>that</th>\n",
       "      <th>to</th>\n",
       "    </tr>\n",
       "  </thead>\n",
       "  <tbody>\n",
       "    <tr>\n",
       "      <th>0</th>\n",
       "      <td>0</td>\n",
       "      <td>0</td>\n",
       "      <td>1</td>\n",
       "      <td>1</td>\n",
       "      <td>1</td>\n",
       "      <td>1</td>\n",
       "      <td>1</td>\n",
       "      <td>1</td>\n",
       "      <td>1</td>\n",
       "      <td>1</td>\n",
       "    </tr>\n",
       "    <tr>\n",
       "      <th>1</th>\n",
       "      <td>1</td>\n",
       "      <td>1</td>\n",
       "      <td>0</td>\n",
       "      <td>1</td>\n",
       "      <td>1</td>\n",
       "      <td>0</td>\n",
       "      <td>0</td>\n",
       "      <td>0</td>\n",
       "      <td>0</td>\n",
       "      <td>1</td>\n",
       "    </tr>\n",
       "  </tbody>\n",
       "</table>\n",
       "</div>"
      ],
      "text/plain": [
       "   eats  everything  football  he  likes  much  play  so  that  to\n",
       "0     0           0         1   1      1     1     1   1     1   1\n",
       "1     1           1         0   1      1     0     0   0     0   1"
      ]
     },
     "execution_count": 5,
     "metadata": {},
     "output_type": "execute_result"
    }
   ],
   "source": [
    "test_1 = [\"He likes to play football so much that\", \n",
    "          \"He likes to eats everything\"]\n",
    "cv = CountVectorizer()\n",
    "create_table(test_1, cv)"
   ]
  },
  {
   "cell_type": "code",
   "execution_count": 6,
   "metadata": {},
   "outputs": [
    {
     "data": {
      "text/html": [
       "<div>\n",
       "<style scoped>\n",
       "    .dataframe tbody tr th:only-of-type {\n",
       "        vertical-align: middle;\n",
       "    }\n",
       "\n",
       "    .dataframe tbody tr th {\n",
       "        vertical-align: top;\n",
       "    }\n",
       "\n",
       "    .dataframe thead th {\n",
       "        text-align: right;\n",
       "    }\n",
       "</style>\n",
       "<table border=\"1\" class=\"dataframe\">\n",
       "  <thead>\n",
       "    <tr style=\"text-align: right;\">\n",
       "      <th></th>\n",
       "      <th>eats</th>\n",
       "      <th>everything</th>\n",
       "      <th>football</th>\n",
       "      <th>he</th>\n",
       "      <th>likes</th>\n",
       "      <th>much</th>\n",
       "      <th>play</th>\n",
       "      <th>so</th>\n",
       "      <th>that</th>\n",
       "      <th>to</th>\n",
       "    </tr>\n",
       "  </thead>\n",
       "  <tbody>\n",
       "    <tr>\n",
       "      <th>0</th>\n",
       "      <td>0.000000</td>\n",
       "      <td>0.000000</td>\n",
       "      <td>0.391668</td>\n",
       "      <td>0.278675</td>\n",
       "      <td>0.278675</td>\n",
       "      <td>0.391668</td>\n",
       "      <td>0.391668</td>\n",
       "      <td>0.391668</td>\n",
       "      <td>0.391668</td>\n",
       "      <td>0.278675</td>\n",
       "    </tr>\n",
       "    <tr>\n",
       "      <th>1</th>\n",
       "      <td>0.533098</td>\n",
       "      <td>0.533098</td>\n",
       "      <td>0.000000</td>\n",
       "      <td>0.379303</td>\n",
       "      <td>0.379303</td>\n",
       "      <td>0.000000</td>\n",
       "      <td>0.000000</td>\n",
       "      <td>0.000000</td>\n",
       "      <td>0.000000</td>\n",
       "      <td>0.379303</td>\n",
       "    </tr>\n",
       "  </tbody>\n",
       "</table>\n",
       "</div>"
      ],
      "text/plain": [
       "       eats  everything  football        he     likes      much      play  \\\n",
       "0  0.000000    0.000000  0.391668  0.278675  0.278675  0.391668  0.391668   \n",
       "1  0.533098    0.533098  0.000000  0.379303  0.379303  0.000000  0.000000   \n",
       "\n",
       "         so      that        to  \n",
       "0  0.391668  0.391668  0.278675  \n",
       "1  0.000000  0.000000  0.379303  "
      ]
     },
     "execution_count": 6,
     "metadata": {},
     "output_type": "execute_result"
    }
   ],
   "source": [
    "test_1 = [\"He likes to play football so much that\", \n",
    "          \"He likes to eats everything\"]\n",
    "tfidf = TfidfVectorizer()\n",
    "create_table(test_1, tfidf)"
   ]
  },
  {
   "cell_type": "markdown",
   "metadata": {},
   "source": [
    "we see `TfidfVectorizer` based on `frequency` which is better than `CountVectorizer`"
   ]
  },
  {
   "cell_type": "markdown",
   "metadata": {},
   "source": [
    "Problem `TfidfVectorizer` make vectorizer on sentence not `word`, and not importance `means of words` (play= 0.391668, that= 0.391668) that take same value in sentence."
   ]
  },
  {
   "cell_type": "markdown",
   "metadata": {},
   "source": [
    "# Word2Vec\n"
   ]
  },
  {
   "cell_type": "markdown",
   "metadata": {},
   "source": [
    "convert Word to vector"
   ]
  },
  {
   "cell_type": "code",
   "execution_count": 5,
   "metadata": {},
   "outputs": [],
   "source": [
    "import gensim.downloader as api"
   ]
  },
  {
   "cell_type": "markdown",
   "metadata": {},
   "source": [
    "Download a pre-trained Word2Vec model"
   ]
  },
  {
   "cell_type": "code",
   "execution_count": 7,
   "metadata": {},
   "outputs": [],
   "source": [
    "model = api.load(\"word2vec-google-news-300\")"
   ]
  },
  {
   "cell_type": "markdown",
   "metadata": {},
   "source": [
    "Accessing the vector for a word"
   ]
  },
  {
   "cell_type": "code",
   "execution_count": null,
   "metadata": {},
   "outputs": [],
   "source": [
    "word_vector = model['Hello'] \n",
    "print(f\"Vector for 'example_word': {word_vector}\")"
   ]
  },
  {
   "cell_type": "markdown",
   "metadata": {},
   "source": [
    "print `300 values` for word `Hello`"
   ]
  },
  {
   "cell_type": "code",
   "execution_count": null,
   "metadata": {},
   "outputs": [],
   "source": [
    "import numpy as np\n",
    "word1 = model['king']\n",
    "word2 = model['queen']\n",
    "print(np.linalg.norm(word1 - word2))"
   ]
  },
  {
   "cell_type": "markdown",
   "metadata": {},
   "source": [
    "subtract two words from each other"
   ]
  },
  {
   "cell_type": "code",
   "execution_count": null,
   "metadata": {},
   "outputs": [],
   "source": [
    "model.most_similar('iphone')"
   ]
  },
  {
   "cell_type": "code",
   "execution_count": null,
   "metadata": {},
   "outputs": [],
   "source": [
    "model.similarity('iphone', 'android')"
   ]
  },
  {
   "cell_type": "code",
   "execution_count": null,
   "metadata": {},
   "outputs": [],
   "source": [
    "model.most_similar(positive=['woman', 'king'], negative=['man'])"
   ]
  },
  {
   "cell_type": "markdown",
   "metadata": {},
   "source": [
    "get more words similar to `woman + king - man`"
   ]
  },
  {
   "cell_type": "code",
   "execution_count": null,
   "metadata": {},
   "outputs": [],
   "source": [
    "model.doesnt_match(\"house garage store sea\".split())"
   ]
  },
  {
   "cell_type": "markdown",
   "metadata": {},
   "source": [
    "Get words `not matching` with sentence"
   ]
  },
  {
   "cell_type": "markdown",
   "metadata": {},
   "source": [
    "RULE:\n",
    "\n",
    "similarity_rule = `A * B / ||A|| * ||B||`\n",
    "\n",
    "when cos(angle) is `large` then two words are `more` similar\n",
    "\n",
    "when cos(angle) is `small` then two words are `less` similar"
   ]
  },
  {
   "cell_type": "markdown",
   "metadata": {},
   "source": [
    "# Glove : unsupervised vectorizer\n",
    "\n",
    "for search ..."
   ]
  },
  {
   "attachments": {},
   "cell_type": "markdown",
   "metadata": {},
   "source": [
    "**Algoritms convert text to numbers**\n",
    "+ Bag of words\n",
    "+ TF-IDF\n",
    "+ Unigram\n",
    "+ Bigram"
   ]
  },
  {
   "cell_type": "code",
   "execution_count": 1,
   "metadata": {},
   "outputs": [],
   "source": [
    "# Text analysis using nltk.text\n",
    "from nltk.text import Text\n",
    "from nltk.tokenize import word_tokenize"
   ]
  },
  {
   "cell_type": "code",
   "execution_count": 3,
   "metadata": {},
   "outputs": [
    {
     "name": "stdout",
     "output_type": "stream",
     "text": [
      "['two', 'plus', 'two', 'equal', 'four', ',', 'my', 'name', 'is', 'mohamed', 'salah', ',', 'RT', 'this', 'is', 'a', 'retweeted', 'tweet', 'by', 'shivam', 'Bansal', ',', 'DM', 'for', 'message', ',', 'i', 'am', 'mohamed']\n"
     ]
    }
   ],
   "source": [
    "# convert Text to Tokenize\n",
    "my_string = \"two plus two equal four , my name is mohamed salah , RT this is a retweeted tweet by shivam Bansal ,  DM for message , i am mohamed \"\n",
    "tokens = word_tokenize(my_string)\n",
    "print(tokens)"
   ]
  },
  {
   "cell_type": "code",
   "execution_count": 4,
   "metadata": {},
   "outputs": [
    {
     "name": "stdout",
     "output_type": "stream",
     "text": [
      "<Text: two plus two equal four , my name...>\n"
     ]
    }
   ],
   "source": [
    "# convert Tokenize to Text\n",
    "text= Text(tokens)\n",
    "print(text)"
   ]
  },
  {
   "cell_type": "code",
   "execution_count": 5,
   "metadata": {},
   "outputs": [
    {
     "name": "stdout",
     "output_type": "stream",
     "text": [
      "['plus', 'two', 'equal', 'four', ',']\n"
     ]
    }
   ],
   "source": [
    "# make slicing\n",
    "print(tokens[1:6])"
   ]
  },
  {
   "cell_type": "code",
   "execution_count": 11,
   "metadata": {},
   "outputs": [
    {
     "name": "stdout",
     "output_type": "stream",
     "text": [
      "Displaying 2 of 2 matches:\n",
      " is mohamed sal\n",
      " am mohamed \n"
     ]
    }
   ],
   "source": [
    "# takes a word as input,\n",
    "# displays all the matches of the word in the text\n",
    "# width: number of characters displayed per line, default is 80 char\n",
    "# lines: number of lines displayed in the output, default is 25 line\n",
    "text.concordance(\"mohamed\", width=15,lines=6) "
   ]
  },
  {
   "cell_type": "code",
   "execution_count": 13,
   "metadata": {},
   "outputs": [
    {
     "name": "stdout",
     "output_type": "stream",
     "text": [
      "\n"
     ]
    },
    {
     "data": {
      "text/plain": [
       "'\\nuses a statistical measure called pointwise mutual information (PMI)\\nidentify the most significant collocations in the text.\\n'"
      ]
     },
     "execution_count": 13,
     "metadata": {},
     "output_type": "execute_result"
    }
   ],
   "source": [
    "# display sequence of words that together more frequently \n",
    "# display top 20 most frequent collocations.\n",
    "# collocations are sequence of words\n",
    "text.collocations() \n",
    "'''\n",
    "uses a statistical measure called pointwise mutual information (PMI)\n",
    "identify the most significant collocations in the text.\n",
    "'''"
   ]
  },
  {
   "cell_type": "code",
   "execution_count": 17,
   "metadata": {},
   "outputs": [
    {
     "data": {
      "text/plain": [
       "1"
      ]
     },
     "execution_count": 17,
     "metadata": {},
     "output_type": "execute_result"
    }
   ],
   "source": [
    "# number of times this word \"appears\" in the text.\n",
    "text.count(\"equal\")"
   ]
  },
  {
   "cell_type": "code",
   "execution_count": 20,
   "metadata": {},
   "outputs": [
    {
     "data": {
      "text/plain": [
       "0"
      ]
     },
     "execution_count": 20,
     "metadata": {},
     "output_type": "execute_result"
    }
   ],
   "source": [
    "# index of the \"first\" occurrence of the word in the text.\n",
    "text.index(\"two\")"
   ]
  },
  {
   "cell_type": "code",
   "execution_count": 25,
   "metadata": {},
   "outputs": [
    {
     "name": "stdout",
     "output_type": "stream",
     "text": [
      "\n"
     ]
    }
   ],
   "source": [
    "# find words that have a similar context as the given word\n",
    "text.similar(\"four\")  #bgeb el kalma el match m3aha "
   ]
  },
  {
   "cell_type": "code",
   "execution_count": 26,
   "metadata": {},
   "outputs": [
    {
     "data": {
      "image/png": "[encoded data removed]",
      "text/plain": [
       "<Figure size 640x480 with 1 Axes>"
      ]
     },
     "metadata": {},
     "output_type": "display_data"
    },
    {
     "data": {
      "text/plain": [
       "<AxesSubplot:xlabel='Samples', ylabel='Counts'>"
      ]
     },
     "execution_count": 26,
     "metadata": {},
     "output_type": "execute_result"
    }
   ],
   "source": [
    "text.plot(10)"
   ]
  },
  {
   "cell_type": "code",
   "execution_count": null,
   "metadata": {},
   "outputs": [],
   "source": [
    "import nltk\n",
    "nltk.download(\"reuters\")"
   ]
  },
  {
   "cell_type": "code",
   "execution_count": null,
   "metadata": {},
   "outputs": [],
   "source": [
    "from nltk.corpus import reuters\n",
    "text = Text(reuters.words())\n",
    "print(text)\n",
    " \n",
    "text.common_contexts([\"February\",\"August\"])"
   ]
  },
  {
   "cell_type": "code",
   "execution_count": 13,
   "metadata": {},
   "outputs": [
    {
     "name": "stdout",
     "output_type": "stream",
     "text": [
      "('i', 'am', 'from')\n",
      "('am', 'from', 'egypt')\n",
      "('from', 'egypt', '.')\n"
     ]
    }
   ],
   "source": [
    "from nltk import ngrams\n",
    "sentence = \" i am from egypt .\"\n",
    "n=3\n",
    "unigrams= ngrams(sentence.split(),n)\n",
    "for grams in unigrams:\n",
    "  print(grams)"
   ]
  },
  {
   "cell_type": "code",
   "execution_count": null,
   "metadata": {},
   "outputs": [],
   "source": [
    "from nltk.corpus import stopwords\n",
    "stopwords.readme().replace('\\n','')\n"
   ]
  },
  {
   "cell_type": "code",
   "execution_count": null,
   "metadata": {},
   "outputs": [],
   "source": [
    "stopwords.fileids()"
   ]
  },
  {
   "cell_type": "code",
   "execution_count": null,
   "metadata": {},
   "outputs": [],
   "source": [
    "stopwords.raw('arabic')"
   ]
  },
  {
   "cell_type": "code",
   "execution_count": null,
   "metadata": {},
   "outputs": [],
   "source": [
    "stopwords.raw('french')"
   ]
  },
  {
   "cell_type": "code",
   "execution_count": null,
   "metadata": {},
   "outputs": [],
   "source": [
    "stopwords.raw(\"english\")"
   ]
  }
 ],
 "metadata": {
  "kernelspec": {
   "display_name": "Python 3",
   "language": "python",
   "name": "python3"
  },
  "language_info": {
   "codemirror_mode": {
    "name": "ipython",
    "version": 3
   },
   "file_extension": ".py",
   "mimetype": "text/x-python",
   "name": "python",
   "nbconvert_exporter": "python",
   "pygments_lexer": "ipython3",
   "version": "3.11.4"
  },
  "orig_nbformat": 4
 },
 "nbformat": 4,
 "nbformat_minor": 2
}
